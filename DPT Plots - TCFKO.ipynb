{
 "cells": [
  {
   "cell_type": "code",
   "execution_count": null,
   "id": "214f6929",
   "metadata": {},
   "outputs": [],
   "source": [
    "####    LOAD LIBRARIES/PACKAGES    ####\n",
    "import numpy as np\n",
    "import pandas as pd\n",
    "import matplotlib.pyplot as plt\n",
    "from mpl_toolkits.axes_grid1 import make_axes_locatable\n",
    "import os\n",
    "import sys\n",
    "import re\n",
    "import math\n",
    "import json\n",
    "from tqdm import tqdm \n",
    "import importlib\n",
    "from pathlib import Path\n",
    "from skimage.draw import polygon_perimeter, polygon\n",
    "from skimage import io\n",
    "from skimage.io import imread, imsave\n",
    "from scipy import ndimage\n",
    "from scipy import stats\n",
    "import seaborn as sns\n",
    "import warnings\n",
    "warnings.filterwarnings('ignore')\n",
    "import shutil\n",
    "import statsmodels.api as sm"
   ]
  },
  {
   "cell_type": "code",
   "execution_count": null,
   "id": "06edada6",
   "metadata": {},
   "outputs": [],
   "source": [
    "def gen_lineplotsmouse(df,gene,yticks):\n",
    "    df=df.sort_values(by='X')\n",
    "    print(df['geno'].unique())\n",
    "    num_genos = df['geno'].nunique()\n",
    "    #num_samples = df['Mouse'].nunique()\n",
    "    col0=\"#52D6F4\"\n",
    "    col1=\"#8f0009\"\n",
    "    X0=df.loc[(df['geno']==df['geno'].unique()[0])]['X']+1#*10+0.5\n",
    "    X1=df.loc[(df['geno']==df['geno'].unique()[1])]['X']+1#*10+0.5\n",
    "    mean0=df.loc[(df['geno']==df['geno'].unique()[0])]['pct']\n",
    "    mean1=df.loc[(df['geno']==df['geno'].unique()[1])]['pct']\n",
    "    error0=df.loc[(df['geno']==df['geno'].unique()[0])]['sepct']\n",
    "    error1=df.loc[(df['geno']==df['geno'].unique()[1])]['sepct']\n",
    "    plt.plot(X0,mean0,color=col0)\n",
    "    plt.plot(X1,mean1,color=col1)\n",
    "    plt.fill_between(X0,mean0-error0,mean0+error0,color=col0,alpha=0.3)\n",
    "    plt.fill_between(X1,mean1-error1,mean1+error1,color=col1,alpha=0.3)\n",
    "    #plt.title(gene,color='w')\n",
    "    #plt.legend([\"Control\",\"L-KO\"])\n",
    "    plt.yticks(yticks,labels=None)#,color='w')\n",
    "    plt.gca().set_yticklabels([])\n",
    "    plt.xticks(range(1,11),labels=None)#,color='w')\n",
    "    plt.gca().set_xticklabels([])\n",
    "    plt.tick_params(length=6,width=2)\n",
    "#    plt.axhline(linewidth=5,color='black')\n",
    "    plt.gca().spines['top'].set_visible(False)\n",
    "    plt.gca().spines['right'].set_visible(False)\n",
    "    plt.gca().spines['bottom'].set_linewidth(2)\n",
    "    plt.gca().spines['left'].set_linewidth(2)\n",
    "    plt.gcf().set_size_inches(3.5,2)\n",
    "    plt.savefig(path+gene+\"_python_DPT_PCT_TCF7L2_notext_2x3.5.png\", bbox_inches='tight',dpi=1200)\n",
    "    plt.show()\n",
    "    plt.close()\n",
    "path=r\"E:\\Private\\CH244916\\RNA Seq\\TCF_Knockout\\\\\"\n",
    "dfn=pd.read_csv(path+\"G6pc_10bin_DPT.csv\")\n",
    "gen_lineplotsmouse(dfn,\"G6pc\",[0.0,0.06,0.12])\n",
    "dfn=pd.read_csv(path+\"Pck1_10bin_DPT.csv\")\n",
    "gen_lineplotsmouse(dfn,\"Pck1\",[0.0,0.06,0.12])"
   ]
  }
 ],
 "metadata": {
  "kernelspec": {
   "display_name": "Python 3 (ipykernel)",
   "language": "python",
   "name": "python3"
  },
  "language_info": {
   "codemirror_mode": {
    "name": "ipython",
    "version": 3
   },
   "file_extension": ".py",
   "mimetype": "text/x-python",
   "name": "python",
   "nbconvert_exporter": "python",
   "pygments_lexer": "ipython3",
   "version": "3.11.4"
  }
 },
 "nbformat": 4,
 "nbformat_minor": 5
}
